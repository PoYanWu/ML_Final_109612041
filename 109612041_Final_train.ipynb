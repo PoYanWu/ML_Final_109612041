{
 "cells": [
  {
   "cell_type": "code",
   "execution_count": 1,
   "metadata": {},
   "outputs": [],
   "source": [
    "import pandas as pd\n",
    "import numpy as np\n",
    "import csv\n",
    "import joblib \n",
    "import torch\n",
    "from torch import nn\n",
    "import sklearn\n",
    "from sklearn.impute import KNNImputer\n",
    "from sklearn.preprocessing import StandardScaler\n",
    "from torch.utils.data import Dataset, DataLoader"
   ]
  },
  {
   "cell_type": "code",
   "execution_count": 2,
   "metadata": {},
   "outputs": [],
   "source": [
    "# load data\n",
    "\n",
    "train_df = pd.read_csv(\"tabular-playground-series-aug-2022//train.csv\")\n",
    "test_df = pd.read_csv(\"tabular-playground-series-aug-2022//test.csv\")\n",
    "\n",
    "ID = test_df['id']\n",
    "\n",
    "# concat train and test data for imputation\n",
    "all_df = pd.concat([train_df[test_df.columns], test_df], ignore_index=1)"
   ]
  },
  {
   "cell_type": "code",
   "execution_count": 3,
   "metadata": {},
   "outputs": [
    {
     "name": "stdout",
     "output_type": "stream",
     "text": [
      "['measurement_3', 'measurement_4', 'measurement_5', 'measurement_6', 'measurement_7', 'measurement_8', 'measurement_9', 'measurement_10', 'measurement_11', 'measurement_12', 'measurement_13', 'measurement_14', 'measurement_15', 'measurement_16'] ['id', 'attribute_2', 'attribute_3', 'measurement_0', 'measurement_1', 'measurement_2']\n"
     ]
    }
   ],
   "source": [
    "float_columns = test_df.dtypes[test_df.dtypes == 'float64'].index.tolist()\n",
    "float_columns.remove('measurement_17')\n",
    "float_columns.remove('loading')\n",
    "int_columns = test_df.dtypes[test_df.dtypes == 'int64'].index.tolist()\n",
    "print(float_columns, int_columns)"
   ]
  },
  {
   "cell_type": "code",
   "execution_count": 4,
   "metadata": {},
   "outputs": [],
   "source": [
    "# drop id and not numerical columns\n",
    "#all_df.drop(['id'], axis=1, inplace=True)\n",
    "all_df = all_df.drop(['product_code', 'attribute_0', 'attribute_1'], axis=1)\n",
    "columns = all_df.columns"
   ]
  },
  {
   "cell_type": "code",
   "execution_count": 5,
   "metadata": {},
   "outputs": [],
   "source": [
    "all_df['m_3_missing'] = all_df.measurement_3.isna()\n",
    "all_df['m_5_missing'] = all_df.measurement_5.isna()\n",
    "\n",
    "# imputation\n",
    "\n",
    "imp = KNNImputer(n_neighbors=10)\n",
    "std_scaler = StandardScaler()\n",
    "for i in all_df.columns:\n",
    "  \n",
    "  all_df[[i]] = imp.fit_transform(all_df[[i]])\n",
    "\n",
    "\n",
    "# use imputed data to calculate \"attribute_2\" * \"attribute_3\", stdev, avg from \"measurement_0\" to \"measurement_16\" of each row as extra features\n",
    "a = all_df['attribute_2']\n",
    "b = all_df['attribute_3']\n",
    "area = a*b\n",
    "all_df['area'] = area\n",
    "\n",
    "stdev = np.std(all_df[float_columns], axis=1)\n",
    "all_df['stdev'] = stdev\n",
    "\n",
    "avg = np.average(all_df[float_columns], axis=1)\n",
    "all_df['avg'] = avg"
   ]
  },
  {
   "cell_type": "code",
   "execution_count": 6,
   "metadata": {},
   "outputs": [],
   "source": [
    "all_df = all_df.drop(int_columns, axis=1)\n",
    "all_df = all_df.drop(float_columns, axis=1)"
   ]
  },
  {
   "cell_type": "code",
   "execution_count": 7,
   "metadata": {},
   "outputs": [],
   "source": [
    "col_to_scale = ['loading', 'avg', 'stdev', 'area', 'measurement_17']\n",
    "\n",
    "# standardscaling\n",
    "all_df[col_to_scale] = std_scaler.fit_transform(all_df[col_to_scale])"
   ]
  },
  {
   "cell_type": "code",
   "execution_count": 8,
   "metadata": {},
   "outputs": [],
   "source": [
    "full_data = all_df.copy()"
   ]
  },
  {
   "cell_type": "code",
   "execution_count": 9,
   "metadata": {},
   "outputs": [],
   "source": [
    "# split x, y\n",
    "\n",
    "x_train = full_data.iloc[:train_df.shape[0], :]\n",
    "y_train = train_df['failure'].astype('float')\n",
    "x_test = full_data.iloc[train_df.shape[0]:, :]"
   ]
  },
  {
   "cell_type": "code",
   "execution_count": 10,
   "metadata": {},
   "outputs": [
    {
     "name": "stdout",
     "output_type": "stream",
     "text": [
      "cuda\n"
     ]
    }
   ],
   "source": [
    "device = (torch.device('cuda') if torch.cuda.is_available() else torch.device('cpu'))\n",
    "print(device)"
   ]
  },
  {
   "cell_type": "code",
   "execution_count": 11,
   "metadata": {},
   "outputs": [],
   "source": [
    "class train_ds(Dataset):\n",
    "  def __init__(self, x_train, y_train):\n",
    "    \n",
    "    self.X_train = torch.from_numpy(x_train.values.astype(np.float32))\n",
    "    self.y_train = torch.from_numpy(y_train.values.astype(np.float32))\n",
    "\n",
    "  def __len__(self):\n",
    "    return len(self.y_train)\n",
    "\n",
    "  def __getitem__(self, idx):\n",
    "    return self.X_train[idx], self.y_train[idx]"
   ]
  },
  {
   "cell_type": "code",
   "execution_count": 12,
   "metadata": {},
   "outputs": [],
   "source": [
    "class test_ds(Dataset):\n",
    "  def __init__(self, x_test):\n",
    "    \n",
    "    self.X_test = torch.from_numpy(x_test.values.astype(np.float32))\n",
    "  \n",
    "\n",
    "  def __len__(self):\n",
    "    return len(self.X_test)\n",
    "\n",
    "  def __getitem__(self, idx):\n",
    "    return self.X_test[idx]"
   ]
  },
  {
   "cell_type": "code",
   "execution_count": 13,
   "metadata": {},
   "outputs": [],
   "source": [
    "train_data = train_ds(x_train, y_train)\n",
    "test_data = test_ds(x_test)"
   ]
  },
  {
   "cell_type": "code",
   "execution_count": 14,
   "metadata": {},
   "outputs": [],
   "source": [
    "train_dl = DataLoader(train_data, batch_size=1000, shuffle=True)\n",
    "test_dl = DataLoader(test_data, batch_size=1000)"
   ]
  },
  {
   "cell_type": "code",
   "execution_count": 15,
   "metadata": {},
   "outputs": [],
   "source": [
    "col_num = x_train.shape[1]"
   ]
  },
  {
   "cell_type": "code",
   "execution_count": 16,
   "metadata": {},
   "outputs": [],
   "source": [
    "torch.manual_seed(32)\n",
    "\n",
    "class LinearModel(nn.Module):\n",
    "  def __init__(self):\n",
    "    super().__init__()\n",
    "    self.layer1 = nn.Linear(in_features=col_num, out_features=8)\n",
    "    self.layer2 = nn.Linear(in_features=16, out_features=8)\n",
    "    self.layer3 = nn.Linear(in_features=8, out_features=8)\n",
    "    self.layer4 = nn.Linear(in_features=8, out_features=1)\n",
    "\n",
    "    self.relu = nn.ReLU()\n",
    "    self.batch_norm1 = nn.BatchNorm1d(16)\n",
    "    self.batch_norm2 = nn.BatchNorm1d(31)\n",
    "    self.dropout = nn.Dropout(p=0.2)\n",
    "\n",
    "\n",
    "  def forward(self, x: torch.tensor):\n",
    "      #x = self.dropout(x)\n",
    "      x = self.relu(self.layer1(x))\n",
    "      x = self.dropout(x)\n",
    "      x = self.layer3(x)\n",
    "      x = self.layer4(x)\n",
    "\n",
    "      return x\n",
    "\n",
    "model = LinearModel()"
   ]
  },
  {
   "cell_type": "code",
   "execution_count": 17,
   "metadata": {},
   "outputs": [
    {
     "data": {
      "text/plain": [
       "LinearModel(\n",
       "  (layer1): Linear(in_features=7, out_features=8, bias=True)\n",
       "  (layer2): Linear(in_features=16, out_features=8, bias=True)\n",
       "  (layer3): Linear(in_features=8, out_features=8, bias=True)\n",
       "  (layer4): Linear(in_features=8, out_features=1, bias=True)\n",
       "  (relu): ReLU()\n",
       "  (batch_norm1): BatchNorm1d(16, eps=1e-05, momentum=0.1, affine=True, track_running_stats=True)\n",
       "  (batch_norm2): BatchNorm1d(31, eps=1e-05, momentum=0.1, affine=True, track_running_stats=True)\n",
       "  (dropout): Dropout(p=0.2, inplace=False)\n",
       ")"
      ]
     },
     "execution_count": 17,
     "metadata": {},
     "output_type": "execute_result"
    }
   ],
   "source": [
    "model.to(device)"
   ]
  },
  {
   "cell_type": "code",
   "execution_count": 18,
   "metadata": {},
   "outputs": [],
   "source": [
    "loss_fn = nn.SmoothL1Loss()\n",
    "optimizer = torch.optim.Adam(model.parameters(), lr=0.0003)"
   ]
  },
  {
   "cell_type": "code",
   "execution_count": 19,
   "metadata": {},
   "outputs": [
    {
     "name": "stdout",
     "output_type": "stream",
     "text": [
      "epoch:0, avgloss:0.1462567150592804\n",
      "epoch:1, avgloss:0.13057450950145721\n",
      "epoch:2, avgloss:0.11915864050388336\n",
      "epoch:3, avgloss:0.11016526073217392\n",
      "epoch:4, avgloss:0.10323435068130493\n",
      "epoch:5, avgloss:0.0977059155702591\n",
      "epoch:6, avgloss:0.09400185197591782\n",
      "epoch:7, avgloss:0.09155102074146271\n",
      "epoch:8, avgloss:0.0897195115685463\n",
      "epoch:9, avgloss:0.08798620849847794\n",
      "epoch:10, avgloss:0.08725390583276749\n",
      "epoch:11, avgloss:0.08657116442918777\n",
      "epoch:12, avgloss:0.08608577400445938\n",
      "epoch:13, avgloss:0.085738405585289\n",
      "epoch:14, avgloss:0.08516920357942581\n",
      "epoch:15, avgloss:0.08484123647212982\n",
      "epoch:16, avgloss:0.08491479605436325\n",
      "epoch:17, avgloss:0.08442335575819016\n",
      "epoch:18, avgloss:0.08427899330854416\n",
      "epoch:19, avgloss:0.08428271859884262\n",
      "epoch:20, avgloss:0.08414992690086365\n",
      "epoch:21, avgloss:0.08376385271549225\n",
      "epoch:22, avgloss:0.08355890959501266\n",
      "epoch:23, avgloss:0.08360477536916733\n",
      "epoch:24, avgloss:0.08364243805408478\n",
      "epoch:25, avgloss:0.08355807512998581\n",
      "epoch:26, avgloss:0.08348248898983002\n",
      "epoch:27, avgloss:0.08321056514978409\n",
      "epoch:28, avgloss:0.08355847001075745\n",
      "epoch:29, avgloss:0.08322744071483612\n",
      "epoch:30, avgloss:0.08310551196336746\n",
      "epoch:31, avgloss:0.08307523280382156\n",
      "epoch:32, avgloss:0.08298961073160172\n",
      "epoch:33, avgloss:0.08299317210912704\n",
      "epoch:34, avgloss:0.08318223804235458\n",
      "epoch:35, avgloss:0.08313349634408951\n",
      "epoch:36, avgloss:0.08293585479259491\n",
      "epoch:37, avgloss:0.08295193314552307\n",
      "epoch:38, avgloss:0.08302158862352371\n",
      "epoch:39, avgloss:0.08297762274742126\n",
      "epoch:40, avgloss:0.08260925859212875\n",
      "epoch:41, avgloss:0.08284317702054977\n",
      "epoch:42, avgloss:0.08298756182193756\n",
      "epoch:43, avgloss:0.08285003900527954\n",
      "epoch:44, avgloss:0.08293543010950089\n",
      "epoch:45, avgloss:0.08284936100244522\n",
      "epoch:46, avgloss:0.08279265463352203\n",
      "epoch:47, avgloss:0.08277774602174759\n",
      "epoch:48, avgloss:0.08287644386291504\n",
      "epoch:49, avgloss:0.08270605653524399\n",
      "epoch:50, avgloss:0.08270629495382309\n",
      "epoch:51, avgloss:0.08274887502193451\n",
      "epoch:52, avgloss:0.08280152082443237\n",
      "epoch:53, avgloss:0.08259664475917816\n",
      "epoch:54, avgloss:0.08274722099304199\n",
      "epoch:55, avgloss:0.08285773545503616\n",
      "epoch:56, avgloss:0.08267921209335327\n",
      "epoch:57, avgloss:0.08279848843812943\n",
      "epoch:58, avgloss:0.08276128023862839\n",
      "epoch:59, avgloss:0.08262591063976288\n",
      "epoch:60, avgloss:0.08280249685049057\n",
      "epoch:61, avgloss:0.08263405412435532\n",
      "epoch:62, avgloss:0.08265596628189087\n",
      "epoch:63, avgloss:0.08253782242536545\n",
      "epoch:64, avgloss:0.08276119083166122\n",
      "epoch:65, avgloss:0.08260229974985123\n",
      "epoch:66, avgloss:0.08258222043514252\n",
      "epoch:67, avgloss:0.08269517868757248\n",
      "epoch:68, avgloss:0.08255547285079956\n",
      "epoch:69, avgloss:0.08243382722139359\n",
      "epoch:70, avgloss:0.0824424996972084\n",
      "epoch:71, avgloss:0.0825403481721878\n",
      "epoch:72, avgloss:0.08253581821918488\n",
      "epoch:73, avgloss:0.08255530893802643\n",
      "epoch:74, avgloss:0.08237353712320328\n",
      "epoch:75, avgloss:0.08246537297964096\n",
      "epoch:76, avgloss:0.0826098695397377\n",
      "epoch:77, avgloss:0.08249594271183014\n",
      "epoch:78, avgloss:0.0825909748673439\n",
      "epoch:79, avgloss:0.08257225155830383\n",
      "epoch:80, avgloss:0.08249357342720032\n",
      "epoch:81, avgloss:0.08248888701200485\n",
      "epoch:82, avgloss:0.08256219327449799\n",
      "epoch:83, avgloss:0.08227240294218063\n",
      "epoch:84, avgloss:0.08250608295202255\n",
      "epoch:85, avgloss:0.08248952031135559\n",
      "epoch:86, avgloss:0.08241859078407288\n",
      "epoch:87, avgloss:0.08245977014303207\n",
      "epoch:88, avgloss:0.08236988633871078\n",
      "epoch:89, avgloss:0.08247856795787811\n",
      "epoch:90, avgloss:0.08252067118883133\n",
      "epoch:91, avgloss:0.08239759504795074\n",
      "epoch:92, avgloss:0.08250425010919571\n",
      "epoch:93, avgloss:0.08234696835279465\n",
      "epoch:94, avgloss:0.08242151886224747\n",
      "epoch:95, avgloss:0.08240855485200882\n",
      "epoch:96, avgloss:0.08244168013334274\n",
      "epoch:97, avgloss:0.08249396085739136\n",
      "epoch:98, avgloss:0.08248678594827652\n",
      "epoch:99, avgloss:0.08235344290733337\n",
      "epoch:100, avgloss:0.08239773660898209\n",
      "epoch:101, avgloss:0.08238502591848373\n",
      "epoch:102, avgloss:0.0823204517364502\n",
      "epoch:103, avgloss:0.08252693712711334\n",
      "epoch:104, avgloss:0.0823148638010025\n",
      "epoch:105, avgloss:0.08244556933641434\n",
      "epoch:106, avgloss:0.08242333680391312\n",
      "epoch:107, avgloss:0.08232437819242477\n",
      "epoch:108, avgloss:0.08238787949085236\n",
      "epoch:109, avgloss:0.08229171484708786\n",
      "epoch:110, avgloss:0.08238955587148666\n",
      "epoch:111, avgloss:0.0825134739279747\n",
      "epoch:112, avgloss:0.08236950635910034\n",
      "epoch:113, avgloss:0.08239880949258804\n",
      "epoch:114, avgloss:0.08241993188858032\n",
      "epoch:115, avgloss:0.08248786628246307\n",
      "epoch:116, avgloss:0.0825187936425209\n",
      "epoch:117, avgloss:0.08218976110219955\n",
      "epoch:118, avgloss:0.08250979334115982\n",
      "epoch:119, avgloss:0.0823507308959961\n",
      "epoch:120, avgloss:0.08238435536623001\n",
      "epoch:121, avgloss:0.08223060518503189\n",
      "epoch:122, avgloss:0.08247135579586029\n",
      "epoch:123, avgloss:0.08250647783279419\n",
      "epoch:124, avgloss:0.08237243443727493\n",
      "epoch:125, avgloss:0.08238248527050018\n",
      "epoch:126, avgloss:0.08240945637226105\n",
      "epoch:127, avgloss:0.0823977068066597\n",
      "epoch:128, avgloss:0.08255951851606369\n",
      "epoch:129, avgloss:0.08240927755832672\n",
      "epoch:130, avgloss:0.08229521661996841\n",
      "epoch:131, avgloss:0.08232686668634415\n",
      "epoch:132, avgloss:0.08251167833805084\n",
      "epoch:133, avgloss:0.08225540071725845\n",
      "epoch:134, avgloss:0.08232744038105011\n",
      "epoch:135, avgloss:0.08243405073881149\n",
      "epoch:136, avgloss:0.08255061507225037\n",
      "epoch:137, avgloss:0.08235511928796768\n",
      "epoch:138, avgloss:0.08229117095470428\n",
      "epoch:139, avgloss:0.08240824192762375\n",
      "epoch:140, avgloss:0.08239668607711792\n",
      "epoch:141, avgloss:0.08242732286453247\n",
      "epoch:142, avgloss:0.08248739689588547\n",
      "epoch:143, avgloss:0.08236964792013168\n",
      "epoch:144, avgloss:0.08222386986017227\n",
      "epoch:145, avgloss:0.08227653056383133\n",
      "epoch:146, avgloss:0.08233790844678879\n",
      "epoch:147, avgloss:0.08227887004613876\n",
      "epoch:148, avgloss:0.0822497010231018\n",
      "epoch:149, avgloss:0.08238847553730011\n",
      "epoch:150, avgloss:0.08229892700910568\n",
      "epoch:151, avgloss:0.08237523585557938\n",
      "epoch:152, avgloss:0.08243337273597717\n"
     ]
    }
   ],
   "source": [
    "torch.manual_seed(32)\n",
    "\n",
    "epochs = 152\n",
    "for epoch in range(epochs+1):\n",
    "  model.train()\n",
    "  loss_value = []\n",
    "  for x_train, y_train in train_dl:\n",
    "    \n",
    "    x_train = x_train.to(device)\n",
    "    y_train = y_train.to(device)\n",
    "\n",
    "    y_pred = model(x_train)\n",
    "\n",
    "    loss = loss_fn(y_pred, y_train.unsqueeze(1))\n",
    "\n",
    "    optimizer.zero_grad()\n",
    "\n",
    "    loss.backward()\n",
    "\n",
    "    optimizer.step()\n",
    "\n",
    "    loss_value.append(loss)\n",
    "\n",
    "    joblib.dump(model, f'my_model_{epoch}')\n",
    "\n",
    "  pred = model(x_train)\n",
    "  print(f\"epoch:{epoch}, avgloss:{sum(loss_value) / len(loss_value)}\")"
   ]
  },
  {
   "cell_type": "code",
   "execution_count": 20,
   "metadata": {},
   "outputs": [
    {
     "data": {
      "text/plain": [
       "['my_model']"
      ]
     },
     "execution_count": 20,
     "metadata": {},
     "output_type": "execute_result"
    }
   ],
   "source": [
    "# save model\n",
    "joblib.dump(model, 'my_model')"
   ]
  }
 ],
 "metadata": {
  "kernelspec": {
   "display_name": "base",
   "language": "python",
   "name": "python3"
  },
  "language_info": {
   "codemirror_mode": {
    "name": "ipython",
    "version": 3
   },
   "file_extension": ".py",
   "mimetype": "text/x-python",
   "name": "python",
   "nbconvert_exporter": "python",
   "pygments_lexer": "ipython3",
   "version": "3.9.7"
  },
  "orig_nbformat": 4,
  "vscode": {
   "interpreter": {
    "hash": "21bfaabeb5f90dcb35f03e41cd0a17fbadd35308efdf98a46f30b833cf085000"
   }
  }
 },
 "nbformat": 4,
 "nbformat_minor": 2
}
